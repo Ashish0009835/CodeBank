{
 "cells": [
  {
   "cell_type": "code",
   "execution_count": 1,
   "metadata": {},
   "outputs": [
    {
     "name": "stdout",
     "output_type": "stream",
     "text": [
      "Enter Age:21\n"
     ]
    }
   ],
   "source": [
    "age= input(\"Enter Age:\")"
   ]
  },
  {
   "cell_type": "code",
   "execution_count": 2,
   "metadata": {},
   "outputs": [
    {
     "name": "stdout",
     "output_type": "stream",
     "text": [
      "21\n"
     ]
    }
   ],
   "source": [
    "print(age)"
   ]
  },
  {
   "cell_type": "code",
   "execution_count": 3,
   "metadata": {},
   "outputs": [
    {
     "name": "stdout",
     "output_type": "stream",
     "text": [
      "Enter name or quit: Rick\n",
      "Rick\n",
      "Enter name or quit: abc\n",
      "abc\n",
      "Enter name or quit: quit\n"
     ]
    }
   ],
   "source": [
    "while True:\n",
    "    n=input(\"Enter name or quit: \")\n",
    "    if(n=='quit'):\n",
    "        break\n",
    "    else:\n",
    "        print(n)"
   ]
  },
  {
   "cell_type": "code",
   "execution_count": 4,
   "metadata": {},
   "outputs": [
    {
     "name": "stdout",
     "output_type": "stream",
     "text": [
      "Enter name or quit: a\n",
      "a\n",
      "Enter name or quit: b\n",
      "b\n",
      "Enter name or quit: c\n",
      "c\n",
      "Enter name or quit: d\n",
      "d\n",
      "Enter name or quit: quit\n"
     ]
    }
   ],
   "source": [
    "flag=True\n",
    "\n",
    "while flag:\n",
    "    n=input(\"Enter name or quit: \")\n",
    "    if(n=='quit'):\n",
    "        flag=False\n",
    "    else: \n",
    "        print(n)"
   ]
  },
  {
   "cell_type": "code",
   "execution_count": 5,
   "metadata": {},
   "outputs": [
    {
     "name": "stdout",
     "output_type": "stream",
     "text": [
      "hi  Rick\n",
      "hi Rick\n"
     ]
    }
   ],
   "source": [
    "def enter_name(name):    #definig functions\n",
    "    print(\"hi \",name)    #positional arguements\n",
    "    print(f\"hi {name}\")\n",
    "    \n",
    "enter_name(\"Rick\")"
   ]
  },
  {
   "cell_type": "code",
   "execution_count": 6,
   "metadata": {},
   "outputs": [
    {
     "name": "stdout",
     "output_type": "stream",
     "text": [
      "hi  Rick\n",
      "hi Apoo\n"
     ]
    }
   ],
   "source": [
    "def enter_name2(name1,name2):\n",
    "    print(\"hi \",name1)\n",
    "    print(f\"hi {name2}\")        #f-> format\n",
    "    \n",
    "enter_name2(\"Rick\",\"Apoo\")"
   ]
  },
  {
   "cell_type": "code",
   "execution_count": 7,
   "metadata": {},
   "outputs": [
    {
     "name": "stdout",
     "output_type": "stream",
     "text": [
      "100   61\n",
      "100   0\n"
     ]
    }
   ],
   "source": [
    "def key_arg(students_no=100, attendance=0):   #keyword arguements\n",
    "    print(students_no,\" \", attendance)\n",
    "    \n",
    "key_arg(100,61)\n",
    "key_arg()"
   ]
  },
  {
   "cell_type": "code",
   "execution_count": 8,
   "metadata": {},
   "outputs": [
    {
     "name": "stdout",
     "output_type": "stream",
     "text": [
      "1070\n"
     ]
    }
   ],
   "source": [
    "def complex_formula1(a,b,c,d,e,f):\n",
    "    ans1=1000\n",
    "    return ans1\n",
    "    \n",
    "def complex_formula2(ans1,v):\n",
    "    ans2=ans1+v\n",
    "    print(ans2)\n",
    "    \n",
    "temp=complex_formula1(10,20,30,40,50,60)\n",
    "complex_formula2(temp,70)\n",
    "    "
   ]
  },
  {
   "cell_type": "markdown",
   "metadata": {},
   "source": [
    "## [Classes -> {object -> (Var & Funct)}]"
   ]
  },
  {
   "cell_type": "code",
   "execution_count": 9,
   "metadata": {},
   "outputs": [
    {
     "name": "stdout",
     "output_type": "stream",
     "text": [
      "Walk\n",
      "bark\n"
     ]
    }
   ],
   "source": [
    "# Inheritance\n",
    "class Mammal:\n",
    "    def walk(self):\n",
    "        print(\"Walk\")\n",
    "        \n",
    "class Dog(Mammal):\n",
    "    def bark(self):\n",
    "        print(\"bark\")\n",
    "        \n",
    "dog = Dog()\n",
    "dog.walk()\n",
    "dog.bark()"
   ]
  },
  {
   "cell_type": "code",
   "execution_count": 10,
   "metadata": {},
   "outputs": [],
   "source": [
    "class Dog:                                \n",
    "    def __init__(self,height,weight):\n",
    "        self.h=height\n",
    "        self.w=weight\n",
    "        "
   ]
  },
  {
   "cell_type": "code",
   "execution_count": 11,
   "metadata": {},
   "outputs": [
    {
     "ename": "ModuleNotFoundError",
     "evalue": "No module named 'converters'",
     "output_type": "error",
     "traceback": [
      "\u001b[1;31m---------------------------------------------------------------------------\u001b[0m",
      "\u001b[1;31mModuleNotFoundError\u001b[0m                       Traceback (most recent call last)",
      "\u001b[1;32m<ipython-input-11-fc640bb5f53d>\u001b[0m in \u001b[0;36m<module>\u001b[1;34m\u001b[0m\n\u001b[1;32m----> 1\u001b[1;33m \u001b[1;32mimport\u001b[0m \u001b[0mconverters\u001b[0m        \u001b[1;31m#we have to load converters lib first\u001b[0m\u001b[1;33m\u001b[0m\u001b[1;33m\u001b[0m\u001b[0m\n\u001b[0m\u001b[0;32m      2\u001b[0m \u001b[0mconverters\u001b[0m\u001b[1;33m.\u001b[0m\u001b[0mkg_to_lbs\u001b[0m\u001b[1;33m(\u001b[0m\u001b[1;36m5\u001b[0m\u001b[1;33m)\u001b[0m\u001b[1;33m\u001b[0m\u001b[1;33m\u001b[0m\u001b[0m\n",
      "\u001b[1;31mModuleNotFoundError\u001b[0m: No module named 'converters'"
     ]
    }
   ],
   "source": [
    "import converters        #we have to load converters lib first\n",
    "converters.kg_to_lbs(5)"
   ]
  },
  {
   "cell_type": "code",
   "execution_count": 12,
   "metadata": {},
   "outputs": [
    {
     "name": "stdout",
     "output_type": "stream",
     "text": [
      "0.41885747189267086\n"
     ]
    }
   ],
   "source": [
    "import random\n",
    "\n",
    "print(random.random())"
   ]
  },
  {
   "cell_type": "markdown",
   "metadata": {},
   "source": [
    "## Files --- r,w,a,x\n",
    "## r - read\n",
    "## w - write\n",
    "## a - append\n",
    "## x - all"
   ]
  },
  {
   "cell_type": "code",
   "execution_count": 13,
   "metadata": {},
   "outputs": [
    {
     "data": {
      "text/plain": [
       "12"
      ]
     },
     "execution_count": 13,
     "metadata": {},
     "output_type": "execute_result"
    }
   ],
   "source": [
    "filename = \"xyz.txt\"\n",
    "file = open(filename, \"w\")\n",
    "file.write(\"Hello \\nWorld\")"
   ]
  },
  {
   "cell_type": "code",
   "execution_count": 14,
   "metadata": {},
   "outputs": [
    {
     "name": "stdout",
     "output_type": "stream",
     "text": [
      "Hello \n",
      "\n",
      "World\n"
     ]
    }
   ],
   "source": [
    "filename = \"xyz.txt\"\n",
    "file = open(filename, \"r\")\n",
    "for line in file:\n",
    "    print(line)"
   ]
  },
  {
   "cell_type": "code",
   "execution_count": 15,
   "metadata": {},
   "outputs": [
    {
     "data": {
      "text/plain": [
       "'Hello \\nWor'"
      ]
     },
     "execution_count": 15,
     "metadata": {},
     "output_type": "execute_result"
    }
   ],
   "source": [
    "filename = \"xyz.txt\"\n",
    "file = open(filename,\"r\")\n",
    "file.read(10)\n"
   ]
  },
  {
   "cell_type": "code",
   "execution_count": 17,
   "metadata": {},
   "outputs": [
    {
     "name": "stdout",
     "output_type": "stream",
     "text": [
      "Hello \n",
      "World\n",
      "HI! MLians\n",
      "\n"
     ]
    }
   ],
   "source": [
    "filename = \"xyz.txt\"\n",
    "file = open(filename, \"r+\")\n",
    "print(file.read())\n",
    "file.write(\"\\nHI! MLians\")\n",
    "print(file.read())"
   ]
  },
  {
   "cell_type": "code",
   "execution_count": null,
   "metadata": {},
   "outputs": [],
   "source": []
  }
 ],
 "metadata": {
  "kernelspec": {
   "display_name": "Python 3",
   "language": "python",
   "name": "python3"
  },
  "language_info": {
   "codemirror_mode": {
    "name": "ipython",
    "version": 3
   },
   "file_extension": ".py",
   "mimetype": "text/x-python",
   "name": "python",
   "nbconvert_exporter": "python",
   "pygments_lexer": "ipython3",
   "version": "3.7.6"
  }
 },
 "nbformat": 4,
 "nbformat_minor": 4
}
